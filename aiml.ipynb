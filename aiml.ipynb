{
  "nbformat": 4,
  "nbformat_minor": 0,
  "metadata": {
    "colab": {
      "provenance": [],
      "authorship_tag": "ABX9TyMPjOYpNdXWz9n1beYHnuW8",
      "include_colab_link": true
    },
    "kernelspec": {
      "name": "python3",
      "display_name": "Python 3"
    },
    "language_info": {
      "name": "python"
    }
  },
  "cells": [
    {
      "cell_type": "markdown",
      "metadata": {
        "id": "view-in-github",
        "colab_type": "text"
      },
      "source": [
        "<a href=\"https://colab.research.google.com/github/saswat1230/2001206091_ECE/blob/main/aiml.ipynb\" target=\"_parent\"><img src=\"https://colab.research.google.com/assets/colab-badge.svg\" alt=\"Open In Colab\"/></a>"
      ]
    },
    {
      "cell_type": "code",
      "execution_count": null,
      "metadata": {
        "colab": {
          "base_uri": "https://localhost:8080/"
        },
        "id": "VltHCyhAvAHN",
        "outputId": "15b962f3-f7cf-45f6-d6cf-ff1ee31f9480"
      },
      "outputs": [
        {
          "output_type": "stream",
          "name": "stdout",
          "text": [
            "HELLOW ECE\n"
          ]
        }
      ],
      "source": [
        "print(\"HELLOW ECE\")"
      ]
    },
    {
      "cell_type": "code",
      "source": [
        "print(\"Hellow ABIT\")"
      ],
      "metadata": {
        "colab": {
          "base_uri": "https://localhost:8080/"
        },
        "id": "l9l10NJnyAJ9",
        "outputId": "f8bd6642-e4aa-4981-d507-03aa66d78839"
      },
      "execution_count": null,
      "outputs": [
        {
          "output_type": "stream",
          "name": "stdout",
          "text": [
            "Hellow ABIT\n"
          ]
        }
      ]
    },
    {
      "cell_type": "code",
      "source": [
        "print(\"hellow ABIT\", end=' ')\n",
        "print(\"Dept. of ECE\")"
      ],
      "metadata": {
        "colab": {
          "base_uri": "https://localhost:8080/"
        },
        "id": "lKLjc2UUyMPw",
        "outputId": "47c2ca2a-3f3d-4daa-e763-968123bf204a"
      },
      "execution_count": null,
      "outputs": [
        {
          "output_type": "stream",
          "name": "stdout",
          "text": [
            "hellow ABIT Dept. of ECE\n"
          ]
        }
      ]
    },
    {
      "cell_type": "code",
      "source": [
        "# using of sep='' in printr().\n",
        "a=7\n",
        "b=5\n",
        "c=2023\n",
        "print(a,b,c, sep='-')"
      ],
      "metadata": {
        "id": "SJH-PdvjzGXt",
        "colab": {
          "base_uri": "https://localhost:8080/"
        },
        "outputId": "8d0022de-380f-4066-956d-ba91c594301c"
      },
      "execution_count": null,
      "outputs": [
        {
          "output_type": "stream",
          "name": "stdout",
          "text": [
            "7-5-2023\n"
          ]
        }
      ]
    }
  ]
}